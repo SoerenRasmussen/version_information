{
 "metadata": {
  "name": "",
  "signature": "sha256:45f686e6899fa24e4cc2d0751bee2c595e668e36897f0263957c9c7142284529"
 },
 "nbformat": 3,
 "nbformat_minor": 0,
 "worksheets": [
  {
   "cells": [
    {
     "cell_type": "heading",
     "level": 1,
     "metadata": {},
     "source": [
      "IPython extension version_information"
     ]
    },
    {
     "cell_type": "markdown",
     "metadata": {},
     "source": [
      "Use the '%version_information' IPython magic extension in a notebook to display information about which versions of dependency package that was used to run the notebook."
     ]
    },
    {
     "cell_type": "heading",
     "level": 2,
     "metadata": {},
     "source": [
      "Installation"
     ]
    },
    {
     "cell_type": "code",
     "collapsed": false,
     "input": [
      "%install_ext http://raw.github.com/jrjohansson/version_information/master/version_information.py"
     ],
     "language": "python",
     "metadata": {},
     "outputs": [
      {
       "output_type": "stream",
       "stream": "stdout",
       "text": [
        "Installed version_information.py. To use it, type:\n",
        "  %load_ext version_information\n"
       ]
      }
     ],
     "prompt_number": 1
    },
    {
     "cell_type": "heading",
     "level": 2,
     "metadata": {},
     "source": [
      "Use"
     ]
    },
    {
     "cell_type": "code",
     "collapsed": false,
     "input": [
      "%load_ext version_information"
     ],
     "language": "python",
     "metadata": {},
     "outputs": [],
     "prompt_number": 2
    },
    {
     "cell_type": "code",
     "collapsed": false,
     "input": [
      "%version_information"
     ],
     "language": "python",
     "metadata": {},
     "outputs": [
      {
       "html": [
        "<table><tr><th>Software</th><th>Version</th></tr><tr><td>Python</td><td>3.4.0 64bit [GCC 4.8.2]</td></tr><tr><td>IPython</td><td>2.3.0</td></tr><tr><td>OS</td><td>Linux 3.13.0 36 generic x86_64 with Ubuntu 14.04 trusty</td></tr><tr><td colspan='2'>Mon Oct 06 10:48:12 2014 JST</td></tr></table>"
       ],
       "json": [
        "{\"Software versions\": [{\"module\": \"Python\", \"version\": \"3.4.0 64bit [GCC 4.8.2]\"}, {\"module\": \"IPython\", \"version\": \"2.3.0\"}, {\"module\": \"OS\", \"version\": \"Linux 3.13.0 36 generic x86_64 with Ubuntu 14.04 trusty\"}]}"
       ],
       "latex": [
        "\\begin{tabular}{|l|l|}\\hline\n",
        "{\\bf Software} & {\\bf Version} \\\\ \\hline\\hline\n",
        "Python & 3.4.0 64bit [GCC 4.8.2] \\\\ \\hline\n",
        "IPython & 2.3.0 \\\\ \\hline\n",
        "OS & Linux 3.13.0 36 generic x86\\letterunderscore{}64 with Ubuntu 14.04 trusty \\\\ \\hline\n",
        "\\hline \\multicolumn{2}{|l|}{Mon Oct 06 10:48:12 2014 JST} \\\\ \\hline\n",
        "\\end{tabular}\n"
       ],
       "metadata": {},
       "output_type": "pyout",
       "prompt_number": 3,
       "text": [
        "Software versions\n",
        "Python 3.4.0 64bit [GCC 4.8.2]\n",
        "IPython 2.3.0\n",
        "OS Linux 3.13.0 36 generic x86_64 with Ubuntu 14.04 trusty\n",
        "Mon Oct 06 10:48:12 2014 JST"
       ]
      }
     ],
     "prompt_number": 3
    },
    {
     "cell_type": "code",
     "collapsed": false,
     "input": [
      "%version_information scipy, numpy, Cython, matplotlib, qutip"
     ],
     "language": "python",
     "metadata": {},
     "outputs": [
      {
       "html": [
        "<table><tr><th>Software</th><th>Version</th></tr><tr><td>Python</td><td>3.4.0 64bit [GCC 4.8.2]</td></tr><tr><td>IPython</td><td>2.3.0</td></tr><tr><td>OS</td><td>Linux 3.13.0 36 generic x86_64 with Ubuntu 14.04 trusty</td></tr><tr><td>scipy</td><td>0.14.0</td></tr><tr><td>numpy</td><td>1.9.0</td></tr><tr><td>Cython</td><td>0.20.1</td></tr><tr><td>matplotlib</td><td>1.4.x</td></tr><tr><td>qutip</td><td>3.1.0.dev-ebe0001</td></tr><tr><td colspan='2'>Mon Oct 06 10:48:22 2014 JST</td></tr></table>"
       ],
       "json": [
        "{\"Software versions\": [{\"module\": \"Python\", \"version\": \"3.4.0 64bit [GCC 4.8.2]\"}, {\"module\": \"IPython\", \"version\": \"2.3.0\"}, {\"module\": \"OS\", \"version\": \"Linux 3.13.0 36 generic x86_64 with Ubuntu 14.04 trusty\"}, {\"module\": \"scipy\", \"version\": \"0.14.0\"}, {\"module\": \"numpy\", \"version\": \"1.9.0\"}, {\"module\": \"Cython\", \"version\": \"0.20.1\"}, {\"module\": \"matplotlib\", \"version\": \"1.4.x\"}, {\"module\": \"qutip\", \"version\": \"3.1.0.dev-ebe0001\"}]}"
       ],
       "latex": [
        "\\begin{tabular}{|l|l|}\\hline\n",
        "{\\bf Software} & {\\bf Version} \\\\ \\hline\\hline\n",
        "Python & 3.4.0 64bit [GCC 4.8.2] \\\\ \\hline\n",
        "IPython & 2.3.0 \\\\ \\hline\n",
        "OS & Linux 3.13.0 36 generic x86\\letterunderscore{}64 with Ubuntu 14.04 trusty \\\\ \\hline\n",
        "scipy & 0.14.0 \\\\ \\hline\n",
        "numpy & 1.9.0 \\\\ \\hline\n",
        "Cython & 0.20.1 \\\\ \\hline\n",
        "matplotlib & 1.4.x \\\\ \\hline\n",
        "qutip & 3.1.0.dev-ebe0001 \\\\ \\hline\n",
        "\\hline \\multicolumn{2}{|l|}{Mon Oct 06 10:48:22 2014 JST} \\\\ \\hline\n",
        "\\end{tabular}\n"
       ],
       "metadata": {},
       "output_type": "pyout",
       "prompt_number": 4,
       "text": [
        "Software versions\n",
        "Python 3.4.0 64bit [GCC 4.8.2]\n",
        "IPython 2.3.0\n",
        "OS Linux 3.13.0 36 generic x86_64 with Ubuntu 14.04 trusty\n",
        "scipy 0.14.0\n",
        "numpy 1.9.0\n",
        "Cython 0.20.1\n",
        "matplotlib 1.4.x\n",
        "qutip 3.1.0.dev-ebe0001\n",
        "Mon Oct 06 10:48:22 2014 JST"
       ]
      }
     ],
     "prompt_number": 4
    }
   ],
   "metadata": {}
  }
 ]
}