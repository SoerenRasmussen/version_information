{
 "metadata": {
  "name": "",
  "signature": "sha256:0019a08d0563c8ba8f97dfc21b1d3ae7f9a6e97e40e5e797b776ead9a3e08577"
 },
 "nbformat": 3,
 "nbformat_minor": 0,
 "worksheets": [
  {
   "cells": [
    {
     "cell_type": "heading",
     "level": 1,
     "metadata": {},
     "source": [
      "IPython extension version_information"
     ]
    },
    {
     "cell_type": "markdown",
     "metadata": {},
     "source": [
      "Use the '%version_information' IPython magic extension in a notebook to display information about which versions of dependency package that was used to run the notebook."
     ]
    },
    {
     "cell_type": "heading",
     "level": 2,
     "metadata": {},
     "source": [
      "Installation"
     ]
    },
    {
     "cell_type": "code",
     "collapsed": false,
     "input": [
      "%install_ext http://raw.github.com/jrjohansson/version_information/master/version_information.py"
     ],
     "language": "python",
     "metadata": {},
     "outputs": [
      {
       "output_type": "stream",
       "stream": "stdout",
       "text": [
        "Installed version_information.py. To use it, type:\n",
        "  %load_ext version_information\n"
       ]
      }
     ],
     "prompt_number": 1
    },
    {
     "cell_type": "heading",
     "level": 2,
     "metadata": {},
     "source": [
      "Use"
     ]
    },
    {
     "cell_type": "code",
     "collapsed": false,
     "input": [
      "%load_ext version_information"
     ],
     "language": "python",
     "metadata": {},
     "outputs": [],
     "prompt_number": 2
    },
    {
     "cell_type": "code",
     "collapsed": false,
     "input": [
      "%version_information"
     ],
     "language": "python",
     "metadata": {},
     "outputs": [
      {
       "html": [
        "<table><tr><th>Software</th><th>Version</th></tr><tr><td>Python</td><td>3.4.0 64bit [GCC 4.8.2]</td></tr><tr><td>IPython</td><td>2.3.1</td></tr><tr><td>OS</td><td>Linux 3.16.0 29 generic x86_64 with Ubuntu 14.10 utopic</td></tr><tr><td colspan='2'>Wed Jan 14 10:34:46 2015 JST</td></tr></table>"
       ],
       "json": [
        "{\"Software versions\": [{\"version\": \"3.4.0 64bit [GCC 4.8.2]\", \"module\": \"Python\"}, {\"version\": \"2.3.1\", \"module\": \"IPython\"}, {\"version\": \"Linux 3.16.0 29 generic x86_64 with Ubuntu 14.10 utopic\", \"module\": \"OS\"}]}"
       ],
       "latex": [
        "\\begin{tabular}{|l|l|}\\hline\n",
        "{\\bf Software} & {\\bf Version} \\\\ \\hline\\hline\n",
        "Python & 3.4.0 64bit [GCC 4.8.2] \\\\ \\hline\n",
        "IPython & 2.3.1 \\\\ \\hline\n",
        "OS & Linux 3.16.0 29 generic x86\\_64 with Ubuntu 14.10 utopic \\\\ \\hline\n",
        "\\hline \\multicolumn{2}{|l|}{Wed Jan 14 10:34:46 2015 JST} \\\\ \\hline\n",
        "\\end{tabular}\n"
       ],
       "metadata": {},
       "output_type": "pyout",
       "prompt_number": 3,
       "text": [
        "Software versions\n",
        "Python 3.4.0 64bit [GCC 4.8.2]\n",
        "IPython 2.3.1\n",
        "OS Linux 3.16.0 29 generic x86_64 with Ubuntu 14.10 utopic\n",
        "Wed Jan 14 10:34:46 2015 JST"
       ]
      }
     ],
     "prompt_number": 3
    },
    {
     "cell_type": "code",
     "collapsed": false,
     "input": [
      "%version_information scipy, numpy, Cython, matplotlib, qutip"
     ],
     "language": "python",
     "metadata": {},
     "outputs": [
      {
       "html": [
        "<table><tr><th>Software</th><th>Version</th></tr><tr><td>Python</td><td>3.4.0 64bit [GCC 4.8.2]</td></tr><tr><td>IPython</td><td>2.3.1</td></tr><tr><td>OS</td><td>Linux 3.16.0 29 generic x86_64 with Ubuntu 14.10 utopic</td></tr><tr><td>scipy</td><td>0.14.1</td></tr><tr><td>numpy</td><td>1.9.1</td></tr><tr><td>Cython</td><td>0.21.2</td></tr><tr><td>matplotlib</td><td>1.4.2</td></tr><tr><td>qutip</td><td>3.1.0</td></tr><tr><td colspan='2'>Wed Jan 14 10:34:50 2015 JST</td></tr></table>"
       ],
       "json": [
        "{\"Software versions\": [{\"version\": \"3.4.0 64bit [GCC 4.8.2]\", \"module\": \"Python\"}, {\"version\": \"2.3.1\", \"module\": \"IPython\"}, {\"version\": \"Linux 3.16.0 29 generic x86_64 with Ubuntu 14.10 utopic\", \"module\": \"OS\"}, {\"version\": \"0.14.1\", \"module\": \"scipy\"}, {\"version\": \"1.9.1\", \"module\": \"numpy\"}, {\"version\": \"0.21.2\", \"module\": \"Cython\"}, {\"version\": \"1.4.2\", \"module\": \"matplotlib\"}, {\"version\": \"3.1.0\", \"module\": \"qutip\"}]}"
       ],
       "latex": [
        "\\begin{tabular}{|l|l|}\\hline\n",
        "{\\bf Software} & {\\bf Version} \\\\ \\hline\\hline\n",
        "Python & 3.4.0 64bit [GCC 4.8.2] \\\\ \\hline\n",
        "IPython & 2.3.1 \\\\ \\hline\n",
        "OS & Linux 3.16.0 29 generic x86\\_64 with Ubuntu 14.10 utopic \\\\ \\hline\n",
        "scipy & 0.14.1 \\\\ \\hline\n",
        "numpy & 1.9.1 \\\\ \\hline\n",
        "Cython & 0.21.2 \\\\ \\hline\n",
        "matplotlib & 1.4.2 \\\\ \\hline\n",
        "qutip & 3.1.0 \\\\ \\hline\n",
        "\\hline \\multicolumn{2}{|l|}{Wed Jan 14 10:34:50 2015 JST} \\\\ \\hline\n",
        "\\end{tabular}\n"
       ],
       "metadata": {},
       "output_type": "pyout",
       "prompt_number": 4,
       "text": [
        "Software versions\n",
        "Python 3.4.0 64bit [GCC 4.8.2]\n",
        "IPython 2.3.1\n",
        "OS Linux 3.16.0 29 generic x86_64 with Ubuntu 14.10 utopic\n",
        "scipy 0.14.1\n",
        "numpy 1.9.1\n",
        "Cython 0.21.2\n",
        "matplotlib 1.4.2\n",
        "qutip 3.1.0\n",
        "Wed Jan 14 10:34:50 2015 JST"
       ]
      }
     ],
     "prompt_number": 4
    }
   ],
   "metadata": {}
  }
 ]
}