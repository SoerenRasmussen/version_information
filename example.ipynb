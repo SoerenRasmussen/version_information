{
 "metadata": {
  "name": "example"
 },
 "nbformat": 3,
 "nbformat_minor": 0,
 "worksheets": [
  {
   "cells": [
    {
     "cell_type": "code",
     "collapsed": false,
     "input": [],
     "language": "python",
     "metadata": {},
     "outputs": []
    },
    {
     "cell_type": "code",
     "collapsed": false,
     "input": [
      "%load_ext version_information"
     ],
     "language": "python",
     "metadata": {},
     "outputs": [],
     "prompt_number": 1
    },
    {
     "cell_type": "code",
     "collapsed": false,
     "input": [
      "%version_information"
     ],
     "language": "python",
     "metadata": {},
     "outputs": [
      {
       "html": [
        "<table><tr><th>Software</th><th>Version</th></tr><tr><td>Python</td><td>3.3.1 (default, Apr 17 2013, 22:30:32) \n",
        "[GCC 4.7.3]</td></tr><tr><td>IPython</td><td>1.0.dev</td></tr><tr><td>OS</td><td>posix [linux]</td></tr><tr><td colspan='2'>Mon Jul 08 12:41:22 2013 JST</td></tr></table>"
       ],
       "metadata": {},
       "output_type": "pyout",
       "prompt_number": 2,
       "text": [
        "<IPython.core.display.HTML at 0x7fe1085ef0d0>"
       ]
      }
     ],
     "prompt_number": 2
    },
    {
     "cell_type": "code",
     "collapsed": false,
     "input": [
      "%version_information scipy, numpy, Cython, matplotlib, qutip"
     ],
     "language": "python",
     "metadata": {},
     "outputs": [
      {
       "html": [
        "<table><tr><th>Software</th><th>Version</th></tr><tr><td>Python</td><td>3.3.1 (default, Apr 17 2013, 22:30:32) \n",
        "[GCC 4.7.3]</td></tr><tr><td>IPython</td><td>1.0.dev</td></tr><tr><td>OS</td><td>posix [linux]</td></tr><tr><td>scipy</td><td>0.13.0.dev-582d59c</td></tr><tr><td>numpy</td><td>1.8.0.dev-79188b2</td></tr><tr><td>Cython</td><td>0.19</td></tr><tr><td>matplotlib</td><td>1.4.x</td></tr><tr><td>qutip</td><td>2.3.0.dev-3587e1a</td></tr><tr><td colspan='2'>Mon Jul 08 12:41:25 2013 JST</td></tr></table>"
       ],
       "metadata": {},
       "output_type": "pyout",
       "prompt_number": 3,
       "text": [
        "<IPython.core.display.HTML at 0x7fe1085dd990>"
       ]
      }
     ],
     "prompt_number": 3
    }
   ],
   "metadata": {}
  }
 ]
}